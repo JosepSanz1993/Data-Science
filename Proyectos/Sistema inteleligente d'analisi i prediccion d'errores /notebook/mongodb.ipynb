{
 "cells": [
  {
   "cell_type": "code",
   "execution_count": 2,
   "id": "501e4bc7",
   "metadata": {},
   "outputs": [],
   "source": [
    "# instancia mongoDB\n",
    "from pymongo import MongoClient\n",
    "from pymongo.errors import ConnectionFailure\n",
    "from bson.objectid import ObjectId\n",
    "import pandas as pd"
   ]
  },
  {
   "cell_type": "code",
   "execution_count": 5,
   "id": "4abdea97",
   "metadata": {},
   "outputs": [],
   "source": [
    "class MongoDB:\n",
    "    def __init__(self, uri, database):\n",
    "        self.uri = uri\n",
    "        self.database = database\n",
    "        self.client = None\n",
    "        self.db = None\n",
    "\n",
    "    def connect(self):\n",
    "        try:\n",
    "            self.client = MongoClient(self.uri)\n",
    "            self.db = self.client[self.database]\n",
    "            # Test the connection\n",
    "            self.client.admin.command('ping')\n",
    "            print(\"MongoDB connection successful.\")\n",
    "        except ConnectionFailure as e:\n",
    "            print(f\"MongoDB connection failed: {e}\")\n",
    "\n",
    "    def insert_data(self, collection_name, data):\n",
    "        if self.db is not None:\n",
    "            collection = self.db[collection_name]\n",
    "            result = collection.insert_one(data)\n",
    "            print(f\"Data inserted with id: {result.inserted_id}\")\n",
    "        else:\n",
    "            print(\"Database not connected.\")\n",
    "\n",
    "    def find_data(self, collection_name, query):\n",
    "        if self.db is not None:\n",
    "            collection = self.db[collection_name]\n",
    "            result = collection.find(query)\n",
    "            return list(result)\n",
    "        else:\n",
    "            print(\"Database not connected.\")\n",
    "            return None\n",
    "        \n",
    "    def update_data(self, collection_name, query, new_values):\n",
    "        if self.db is not None:\n",
    "            collection = self.db[collection_name]\n",
    "            result = collection.update_one(query, {'$set': new_values})\n",
    "            print(f\"Matched {result.matched_count} documents and modified {result.modified_count} documents.\")\n",
    "        else:\n",
    "            print(\"Database not connected.\")\n",
    "\n",
    "    def delete_data(self, collection_name, query):  \n",
    "        if self.db is not None:\n",
    "            collection = self.db[collection_name]\n",
    "            result = collection.delete_one(query)\n",
    "            print(f\"Deleted {result.deleted_count} documents.\")\n",
    "        else:\n",
    "            print(\"Database not connected.\")\n",
    "\n",
    "    def get_all_data(self, collection_name):\n",
    "        if self.d is not None:\n",
    "            collection = self.db[collection_name]\n",
    "            result = collection.find()\n",
    "            return list(result)\n",
    "        else:\n",
    "            print(\"Database not connected.\")\n",
    "            return None\n",
    "        \n",
    "    def get_data_by_id(self, collection_name, object_id):\n",
    "        if self.db is not None:\n",
    "            collection = self.db[collection_name]\n",
    "            result = collection.find_one({\"_id\": ObjectId(object_id)})\n",
    "            return result\n",
    "        else:\n",
    "            print(\"Database not connected.\")\n",
    "            return None\n",
    "        \n",
    "    def delete_all_data(self, collection_name):\n",
    "        if self.db is not None:\n",
    "            collection = self.db[collection_name]\n",
    "            result = collection.delete_many({})\n",
    "            print(f\"Deleted {result.deleted_count} documents.\")\n",
    "        else:\n",
    "            print(\"Database not connected.\")\n",
    "            \n",
    "    def close(self):\n",
    "        if self.client:\n",
    "            self.client.close()"
   ]
  },
  {
   "cell_type": "code",
   "execution_count": 6,
   "id": "e57cfe39",
   "metadata": {},
   "outputs": [],
   "source": [
    "mongo = MongoDB(\"mongodb://localhost:27017/\", \"anomaly_detection\")"
   ]
  },
  {
   "cell_type": "code",
   "execution_count": 8,
   "id": "bfccdccf",
   "metadata": {},
   "outputs": [
    {
     "name": "stdout",
     "output_type": "stream",
     "text": [
      "MongoDB connection successful.\n",
      "[{'_id': ObjectId('68162c00dda6c260f1415583'), 'model_name': 'Autoencoder', 'timestamp': '2025-05-03T16:45:20.436533', 'parameters': {'hidden_layer_sizes': [8, 4, 8], 'activation': 'relu', 'solver': 'adam', 'max_iter': 200, 'random_state': 42}, 'metrics': {'classification_report': {'Anomaly': {'precision': 0.0, 'recall': 0.0, 'f1-score': 0.0, 'support': 0.0}, 'Normal': {'precision': 1.0, 'recall': 0.6666666666666666, 'f1-score': 0.8, 'support': 3.0}, 'accuracy': 0.6666666666666666, 'macro avg': {'precision': 0.5, 'recall': 0.3333333333333333, 'f1-score': 0.4, 'support': 3.0}, 'weighted avg': {'precision': 1.0, 'recall': 0.6666666666666666, 'f1-score': 0.8000000000000002, 'support': 3.0}}, 'mse': [1703.163695545547, 3935.5437004947635, 7679.156670008478]}, 'saved_model': 'model_result/mlp_autoencoder_model.pkl', 'saved_scaler': None}]\n",
      "[{'_id': ObjectId('68162c01dda6c260f1415584'), 'model_name': 'IsolationForest', 'timestamp': '2025-05-03T16:45:21.707338', 'parameters': {'contamination': 0.05, 'random_state': 42}, 'metrics': {'classification_report': {'Anomaly': {'precision': 0.0, 'recall': 0.0, 'f1-score': 0.0, 'support': 0.0}, 'Normal': {'precision': 1.0, 'recall': 0.6666666666666666, 'f1-score': 0.8, 'support': 3.0}, 'accuracy': 0.6666666666666666, 'macro avg': {'precision': 0.5, 'recall': 0.3333333333333333, 'f1-score': 0.4, 'support': 3.0}, 'weighted avg': {'precision': 1.0, 'recall': 0.6666666666666666, 'f1-score': 0.8000000000000002, 'support': 3.0}}, 'contamination': 0.05, 'n_estimators': 100, 'max_samples': 'auto'}, 'saved_model': 'model_result/insolation_forest_model.pkl', 'saved_scaler': None}]\n",
      "[{'_id': ObjectId('68162c01dda6c260f1415585'), 'model_name': 'RandomForestClassifier', 'timestamp': '2025-05-03T16:45:21.771839', 'parameters': {'n_estimators': 100, 'random_state': 42}, 'metrics': {'accuracy': 0.6666666666666666, 'classification_report': {'0': {'precision': 0.6666666666666666, 'recall': 1.0, 'f1-score': 0.8, 'support': 2.0}, '1': {'precision': 0.0, 'recall': 0.0, 'f1-score': 0.0, 'support': 1.0}, 'accuracy': 0.6666666666666666, 'macro avg': {'precision': 0.3333333333333333, 'recall': 0.5, 'f1-score': 0.4, 'support': 3.0}, 'weighted avg': {'precision': 0.4444444444444444, 'recall': 0.6666666666666666, 'f1-score': 0.5333333333333333, 'support': 3.0}}, 'n_estimators': 100, 'max_depth': None}, 'saved_model': 'model_result/random_forest_model.pkl', 'saved_scaler': 'model_result/scaler_RF.gz'}]\n",
      "[{'_id': ObjectId('68162c01dda6c260f1415586'), 'model_name': 'MLPClassifier', 'timestamp': '2025-05-03T16:45:21.806859', 'parameters': {'hidden_layer_sizes': [64, 32], 'activation': 'relu', 'solver': 'adam', 'max_iter': 300, 'random_state': 42}, 'metrics': {'accuracy': 0.6666666666666666, 'classification_report': {'0': {'precision': 0.6666666666666666, 'recall': 1.0, 'f1-score': 0.8, 'support': 2.0}, '1': {'precision': 0.0, 'recall': 0.0, 'f1-score': 0.0, 'support': 1.0}, 'accuracy': 0.6666666666666666, 'macro avg': {'precision': 0.3333333333333333, 'recall': 0.5, 'f1-score': 0.4, 'support': 3.0}, 'weighted avg': {'precision': 0.4444444444444444, 'recall': 0.6666666666666666, 'f1-score': 0.5333333333333333, 'support': 3.0}}}, 'saved_model': 'model_result/MLP_model.pkl', 'saved_scaler': 'model_result/scaler_MLP.gz'}]\n"
     ]
    }
   ],
   "source": [
    "mongo.connect()\n",
    "r1 = mongo.find_data(\"autoencoder_results\", {})\n",
    "r2 = mongo.find_data(\"isolation_forest_results\", {})\n",
    "r3 = mongo.find_data(\"random_forest_results\", {})\n",
    "r4 = mongo.find_data(\"mlp_results\", {})\n",
    "print(r1)\n",
    "print(r2)\n",
    "print(r3)\n",
    "print(r4)\n",
    "mongo.close()"
   ]
  },
  {
   "cell_type": "markdown",
   "id": "fc30f481",
   "metadata": {},
   "source": []
  }
 ],
 "metadata": {
  "kernelspec": {
   "display_name": "base",
   "language": "python",
   "name": "python3"
  },
  "language_info": {
   "codemirror_mode": {
    "name": "ipython",
    "version": 3
   },
   "file_extension": ".py",
   "mimetype": "text/x-python",
   "name": "python",
   "nbconvert_exporter": "python",
   "pygments_lexer": "ipython3",
   "version": "3.12.4"
  }
 },
 "nbformat": 4,
 "nbformat_minor": 5
}
