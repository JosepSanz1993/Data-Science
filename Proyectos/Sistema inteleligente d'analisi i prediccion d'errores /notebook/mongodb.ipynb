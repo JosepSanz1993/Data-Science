{
 "cells": [
  {
   "cell_type": "code",
   "execution_count": 1,
   "id": "501e4bc7",
   "metadata": {},
   "outputs": [],
   "source": [
    "# instancia mongoDB\n",
    "from pymongo import MongoClient\n",
    "from pymongo.errors import ConnectionFailure\n",
    "from bson.objectid import ObjectId"
   ]
  },
  {
   "cell_type": "code",
   "execution_count": 2,
   "id": "4abdea97",
   "metadata": {},
   "outputs": [],
   "source": [
    "class MongoDB:\n",
    "    def __init__(self, uri, database):\n",
    "        self.uri = uri\n",
    "        self.database = database\n",
    "        self.client = None\n",
    "        self.db = None\n",
    "\n",
    "    def connect(self):\n",
    "        try:\n",
    "            self.client = MongoClient(self.uri)\n",
    "            self.db = self.client[self.database]\n",
    "            # Test the connection\n",
    "            self.client.admin.command('ping')\n",
    "            print(\"MongoDB connection successful.\")\n",
    "        except ConnectionFailure as e:\n",
    "            print(f\"MongoDB connection failed: {e}\")\n",
    "\n",
    "    def insert_data(self, collection_name, data):\n",
    "        if self.db is not None:\n",
    "            collection = self.db[collection_name]\n",
    "            result = collection.insert_one(data)\n",
    "            print(f\"Data inserted with id: {result.inserted_id}\")\n",
    "        else:\n",
    "            print(\"Database not connected.\")\n",
    "\n",
    "    def find_data(self, collection_name, query):\n",
    "        if self.db is not None:\n",
    "            collection = self.db[collection_name]\n",
    "            result = collection.find(query)\n",
    "            return list(result)\n",
    "        else:\n",
    "            print(\"Database not connected.\")\n",
    "            return None\n",
    "        \n",
    "    def update_data(self, collection_name, query, new_values):\n",
    "        if self.db is not None:\n",
    "            collection = self.db[collection_name]\n",
    "            result = collection.update_one(query, {'$set': new_values})\n",
    "            print(f\"Matched {result.matched_count} documents and modified {result.modified_count} documents.\")\n",
    "        else:\n",
    "            print(\"Database not connected.\")\n",
    "\n",
    "    def delete_data(self, collection_name, query):  \n",
    "        if self.db is not None:\n",
    "            collection = self.db[collection_name]\n",
    "            result = collection.delete_one(query)\n",
    "            print(f\"Deleted {result.deleted_count} documents.\")\n",
    "        else:\n",
    "            print(\"Database not connected.\")\n",
    "\n",
    "    def get_all_data(self, collection_name):\n",
    "        if self.d is not None:\n",
    "            collection = self.db[collection_name]\n",
    "            result = collection.find()\n",
    "            return list(result)\n",
    "        else:\n",
    "            print(\"Database not connected.\")\n",
    "            return None\n",
    "        \n",
    "    def get_data_by_id(self, collection_name, object_id):\n",
    "        if self.db is not None:\n",
    "            collection = self.db[collection_name]\n",
    "            result = collection.find_one({\"_id\": ObjectId(object_id)})\n",
    "            return result\n",
    "        else:\n",
    "            print(\"Database not connected.\")\n",
    "            return None\n",
    "        \n",
    "    def delete_all_data(self, collection_name):\n",
    "        if self.db is not None:\n",
    "            collection = self.db[collection_name]\n",
    "            result = collection.delete_many({})\n",
    "            print(f\"Deleted {result.deleted_count} documents.\")\n",
    "        else:\n",
    "            print(\"Database not connected.\")\n",
    "            \n",
    "    def close(self):\n",
    "        if self.client:\n",
    "            self.client.close()"
   ]
  },
  {
   "cell_type": "code",
   "execution_count": 3,
   "id": "e57cfe39",
   "metadata": {},
   "outputs": [],
   "source": [
    "mongo = MongoDB(\"mongodb://localhost:27017/\", \"anomaly_detection\")"
   ]
  },
  {
   "cell_type": "code",
   "execution_count": 4,
   "id": "bfccdccf",
   "metadata": {},
   "outputs": [
    {
     "name": "stdout",
     "output_type": "stream",
     "text": [
      "MongoDB connection successful.\n",
      "Deleted 0 documents.\n"
     ]
    }
   ],
   "source": [
    "mongo.connect()\n",
    "mongo.delete_all_data(\"mlp_results\")\n",
    "mongo.close()"
   ]
  }
 ],
 "metadata": {
  "kernelspec": {
   "display_name": "base",
   "language": "python",
   "name": "python3"
  },
  "language_info": {
   "codemirror_mode": {
    "name": "ipython",
    "version": 3
   },
   "file_extension": ".py",
   "mimetype": "text/x-python",
   "name": "python",
   "nbconvert_exporter": "python",
   "pygments_lexer": "ipython3",
   "version": "3.12.4"
  }
 },
 "nbformat": 4,
 "nbformat_minor": 5
}
